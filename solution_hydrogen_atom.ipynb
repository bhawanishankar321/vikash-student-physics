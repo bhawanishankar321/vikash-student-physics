{
 "cells": [
  {
   "cell_type": "code",
   "execution_count": 1,
   "id": "induced-cincinnati",
   "metadata": {},
   "outputs": [],
   "source": [
    "import numpy as np\n",
    "import matplotlib.pyplot as plt\n",
    "import time\n",
    "from scipy import constants as const\n",
    "from scipy.sparse import csr_matrix\n",
    "from scipy.sparse.linalg import eigs"
   ]
  },
  {
   "cell_type": "code",
   "execution_count": 2,
   "id": "conditional-samuel",
   "metadata": {},
   "outputs": [],
   "source": [
    "#Import constants from scipy\n",
    "# Charge of electron\n",
    "e=const.e\n",
    "# value of  h cross\n",
    "hbar=const.hbar\n",
    "# Mass of proton\n",
    "m_p=const.m_p\n",
    "# Mass of electron\n",
    "m_e=const.m_e\n",
    "#Reduce mass\n",
    "mu=(m_p*m_e)/(m_p+m_e)\n",
    "# Discritise radius\n",
    "r=np.linspace(2e-9,0,1000,endpoint=False)\n",
    "# Step size\n",
    "d=r[9]-r[10]\n",
    "# the constant -h**2/2md\n",
    "k = -hbar**2/(2*mu*(d**2))\n",
    "pi = const.pi\n",
    "epsilon_0 = const.epsilon_0"
   ]
  },
  {
   "cell_type": "code",
   "execution_count": 3,
   "id": "overhead-inquiry",
   "metadata": {},
   "outputs": [
    {
     "name": "stdout",
     "output_type": "stream",
     "text": [
      "[[-2.  1.  0. ...  0.  0.  0.]\n",
      " [ 1. -2.  1. ...  0.  0.  0.]\n",
      " [ 0.  1. -2. ...  0.  0.  0.]\n",
      " ...\n",
      " [ 0.  0.  0. ... -2.  1.  0.]\n",
      " [ 0.  0.  0. ...  1. -2.  1.]\n",
      " [ 0.  0.  0. ...  0.  1. -2.]]\n"
     ]
    }
   ],
   "source": [
    "# Laplace term\n",
    "laplace=np.zeros([1000,1000])\n",
    "for i in range(1000):\n",
    "    laplace[i,i]=-2\n",
    "    try:\n",
    "        laplace[i,i+1]=1\n",
    "        laplace[i+1,i]=1\n",
    "    except:\n",
    "        pass\n",
    "print(laplace)"
   ]
  },
  {
   "cell_type": "code",
   "execution_count": 4,
   "id": "theoretical-lindsay",
   "metadata": {
    "scrolled": true
   },
   "outputs": [
    {
     "name": "stdout",
     "output_type": "stream",
     "text": [
      "[[-1.15353878e-19  0.00000000e+00  0.00000000e+00 ...  0.00000000e+00\n",
      "   0.00000000e+00  0.00000000e+00]\n",
      " [ 0.00000000e+00 -1.15469347e-19  0.00000000e+00 ...  0.00000000e+00\n",
      "   0.00000000e+00  0.00000000e+00]\n",
      " [ 0.00000000e+00  0.00000000e+00 -1.15585048e-19 ...  0.00000000e+00\n",
      "   0.00000000e+00  0.00000000e+00]\n",
      " ...\n",
      " [ 0.00000000e+00  0.00000000e+00  0.00000000e+00 ... -3.84512925e-17\n",
      "   0.00000000e+00  0.00000000e+00]\n",
      " [ 0.00000000e+00  0.00000000e+00  0.00000000e+00 ...  0.00000000e+00\n",
      "  -5.76769388e-17  0.00000000e+00]\n",
      " [ 0.00000000e+00  0.00000000e+00  0.00000000e+00 ...  0.00000000e+00\n",
      "   0.00000000e+00 -1.15353878e-16]]\n"
     ]
    }
   ],
   "source": [
    "# Potential term\n",
    "V=np.zeros([1000,1000])\n",
    "for i in range(1000):\n",
    "    V[i,i]=-e**2/(4*pi*epsilon_0*r[i])\n",
    "print(V)"
   ]
  },
  {
   "cell_type": "code",
   "execution_count": 5,
   "id": "broad-diagnosis",
   "metadata": {},
   "outputs": [],
   "source": [
    "laplace_term=k*laplace\n",
    "H=laplace_term+V\n",
    "H_sparse=csr_matrix(H)\n",
    "eigenvalues, eigenvectors = eigs(H_sparse, k=30, which='SM')"
   ]
  },
  {
   "cell_type": "code",
   "execution_count": 6,
   "id": "coated-mechanism",
   "metadata": {},
   "outputs": [
    {
     "name": "stdout",
     "output_type": "stream",
     "text": [
      "[[ 3.0537944e-15 -1.5268972e-15 -0.0000000e+00 ... -0.0000000e+00\n",
      "  -0.0000000e+00 -0.0000000e+00]\n",
      " [-1.5268972e-15  3.0537944e-15 -1.5268972e-15 ... -0.0000000e+00\n",
      "  -0.0000000e+00 -0.0000000e+00]\n",
      " [-0.0000000e+00 -1.5268972e-15  3.0537944e-15 ... -0.0000000e+00\n",
      "  -0.0000000e+00 -0.0000000e+00]\n",
      " ...\n",
      " [-0.0000000e+00 -0.0000000e+00 -0.0000000e+00 ...  3.0537944e-15\n",
      "  -1.5268972e-15 -0.0000000e+00]\n",
      " [-0.0000000e+00 -0.0000000e+00 -0.0000000e+00 ... -1.5268972e-15\n",
      "   3.0537944e-15 -1.5268972e-15]\n",
      " [-0.0000000e+00 -0.0000000e+00 -0.0000000e+00 ... -0.0000000e+00\n",
      "  -1.5268972e-15  3.0537944e-15]]\n"
     ]
    }
   ],
   "source": [
    "print(laplace_term)"
   ]
  },
  {
   "cell_type": "code",
   "execution_count": 7,
   "id": "manufactured-encyclopedia",
   "metadata": {},
   "outputs": [],
   "source": [
    "eig_vas=[]\n",
    "eig_ves=[]\n",
    "for i,j in sorted(zip(eigenvalues,eigenvectors.T)):\n",
    "    eig_vas.append(i)\n",
    "    eig_ves.append(j)\n",
    "eig_values=np.array(eig_vas)\n",
    "eig_vectors=np.array(eig_ves)"
   ]
  },
  {
   "cell_type": "code",
   "execution_count": 8,
   "id": "musical-emperor",
   "metadata": {},
   "outputs": [
    {
     "name": "stderr",
     "output_type": "stream",
     "text": [
      "c:\\users\\bhawa\\python\\global_env\\lib\\site-packages\\numpy\\core\\_asarray.py:83: ComplexWarning: Casting complex values to real discards the imaginary part\n",
      "  return array(a, dtype, copy=False, order=order)\n",
      "c:\\users\\bhawa\\python\\global_env\\lib\\site-packages\\numpy\\core\\_asarray.py:83: ComplexWarning: Casting complex values to real discards the imaginary part\n",
      "  return array(a, dtype, copy=False, order=order)\n",
      "c:\\users\\bhawa\\python\\global_env\\lib\\site-packages\\numpy\\core\\_asarray.py:83: ComplexWarning: Casting complex values to real discards the imaginary part\n",
      "  return array(a, dtype, copy=False, order=order)\n"
     ]
    },
    {
     "data": {
      "text/plain": [
       "<matplotlib.legend.Legend at 0x1b3ff948700>"
      ]
     },
     "execution_count": 8,
     "metadata": {},
     "output_type": "execute_result"
    },
    {
     "data": {
      "image/png": "[encoded data removed]",
      "text/plain": [
       "<Figure size 1080x432 with 1 Axes>"
      ]
     },
     "metadata": {
      "needs_background": "light"
     },
     "output_type": "display_data"
    }
   ],
   "source": [
    "plt.figure(figsize=(15,6))\n",
    "plt.xlabel(\"Radius in meter\")\n",
    "plt.ylabel(\"Eigen Function\")\n",
    "plt.title(\"Solution of S wave for Hydrogen atom\")\n",
    "for i in range(3):\n",
    "    plt.plot(r,eig_vectors[i])\n",
    "plt.legend([\"E_1\",\"E_2\",\"E_3\"])"
   ]
  },
  {
   "cell_type": "code",
   "execution_count": 9,
   "id": "champion-meaning",
   "metadata": {},
   "outputs": [
    {
     "ename": "NameError",
     "evalue": "name 'sorted_eigenvalues' is not defined",
     "output_type": "error",
     "traceback": [
      "\u001b[1;31m---------------------------------------------------------------------------\u001b[0m",
      "\u001b[1;31mNameError\u001b[0m                                 Traceback (most recent call last)",
      "\u001b[1;32m<ipython-input-9-469e9ee6f97f>\u001b[0m in \u001b[0;36m<module>\u001b[1;34m\u001b[0m\n\u001b[1;32m----> 1\u001b[1;33m \u001b[0mdensities\u001b[0m \u001b[1;33m=\u001b[0m \u001b[1;33m[\u001b[0m\u001b[0mnp\u001b[0m\u001b[1;33m.\u001b[0m\u001b[0mabsolute\u001b[0m\u001b[1;33m(\u001b[0m\u001b[0meig_vectors\u001b[0m\u001b[1;33m[\u001b[0m\u001b[0mi\u001b[0m\u001b[1;33m,\u001b[0m \u001b[1;33m:\u001b[0m\u001b[1;33m]\u001b[0m\u001b[1;33m)\u001b[0m\u001b[1;33m**\u001b[0m\u001b[1;36m2\u001b[0m \u001b[1;32mfor\u001b[0m \u001b[0mi\u001b[0m \u001b[1;32min\u001b[0m \u001b[0mrange\u001b[0m\u001b[1;33m(\u001b[0m\u001b[0mlen\u001b[0m\u001b[1;33m(\u001b[0m\u001b[0msorted_eigenvalues\u001b[0m\u001b[1;33m)\u001b[0m\u001b[1;33m)\u001b[0m\u001b[1;33m]\u001b[0m\u001b[1;33m\u001b[0m\u001b[1;33m\u001b[0m\u001b[0m\n\u001b[0m",
      "\u001b[1;31mNameError\u001b[0m: name 'sorted_eigenvalues' is not defined"
     ]
    }
   ],
   "source": [
    "densities = [np.absolute(eig_vectors[i, :])**2 for i in range(len(sorted_eigenvalues))]"
   ]
  },
  {
   "cell_type": "code",
   "execution_count": null,
   "id": "complicated-criticism",
   "metadata": {
    "scrolled": false
   },
   "outputs": [],
   "source": [
    "plt.figure(figsize=(15,6))\n",
    "plt.xlabel(\"Radius in meter\")\n",
    "plt.ylabel(\"Probability density\")\n",
    "plt.title(\"Solution of S wave for Hydrogen atom\")\n",
    "for i in range(3):\n",
    "    plt.plot(r,densities[i])\n",
    "plt.legend([\"E_1\",\"E_2\",\"E_3\"])"
   ]
  },
  {
   "cell_type": "code",
   "execution_count": null,
   "id": "intelligent-bryan",
   "metadata": {},
   "outputs": [],
   "source": []
  }
 ],
 "metadata": {
  "kernelspec": {
   "display_name": "Python 3",
   "language": "python",
   "name": "python3"
  },
  "language_info": {
   "codemirror_mode": {
    "name": "ipython",
    "version": 3
   },
   "file_extension": ".py",
   "mimetype": "text/x-python",
   "name": "python",
   "nbconvert_exporter": "python",
   "pygments_lexer": "ipython3",
   "version": "3.9.1"
  }
 },
 "nbformat": 4,
 "nbformat_minor": 5
}
